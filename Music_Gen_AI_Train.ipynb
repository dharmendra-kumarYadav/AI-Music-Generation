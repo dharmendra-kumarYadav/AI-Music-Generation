{
 "cells": [
  {
   "cell_type": "code",
   "execution_count": 1,
   "metadata": {
    "id": "T-B-9mT_dkDw"
   },
   "outputs": [],
   "source": [
    "from music21 import *\n",
    "import os\n",
    "import numpy as np\n",
    "import matplotlib.pyplot as plt\n",
    "import matplotlib.pyplot as plt\n",
    "import torch\n",
    "from torch import tensor\n",
    "import torch.nn as nn\n",
    "import torch.optim as optim\n",
    "import tensorflow as tf\n",
    "import torch.nn.functional as F\n",
    "import math\n",
    "device = torch.device(\"cuda:0\" if torch.cuda.is_available() else \"cpu\")\n",
    "print(device)"
   ]
  },
  {
   "cell_type": "code",
   "execution_count": 2,
   "metadata": {},
   "outputs": [],
   "source": [
    "import pandas as pd\n",
    "from ast import literal_eval\n",
    "\n",
    "notes_df = pd.read_csv ('Dataset/notes.csv')\n",
    "train_df = pd.read_csv ('Dataset/trainset.csv')\n",
    "validation_df = pd.read_csv ('Dataset/validationset.csv')\n",
    "\n",
    "data_train = train_df[['x_tr','future']].to_numpy()\n",
    "data_validation = validation_df[['x_val','future']].to_numpy()\n",
    "\n",
    "x_tr_string = data_train[:,0]\n",
    "y_tr_string = data_train[:,1]\n",
    "x_tr = []\n",
    "y_tr = []\n",
    "for i in x_tr_string:\n",
    "\n",
    "    b = \"[]\\n\"\n",
    "    for char in b:\n",
    "        i = i.replace(char, \"\")\n",
    "    input_x_tr = [int(j) for j in i.split()]\n",
    "    x_tr.append(input_x_tr)\n",
    "\n",
    "for i in y_tr_string:\n",
    "\n",
    "    b = \"[]\\n\"\n",
    "    for char in b:\n",
    "        i = i.replace(char, \"\")\n",
    "    input_y_tr = [int(j) for j in i.split()]\n",
    "    y_tr.append(input_y_tr)\n",
    "x_tr = np.array(x_tr)\n",
    "y_tr = np.array(y_tr)\n",
    "    \n",
    "# print(x_tr.shape,y_tr.shape)\n",
    "\n",
    "x_val_string = data_validation[:,0]\n",
    "y_val_string = data_validation[:,1]\n",
    "x_val = []\n",
    "y_val = []\n",
    "for i in x_val_string:\n",
    "\n",
    "    b = \"[]\\n\"\n",
    "    for char in b:\n",
    "        i = i.replace(char, \"\")\n",
    "    input_x_val = [int(j) for j in i.split()]\n",
    "    x_val.append(input_x_val)\n",
    "\n",
    "for i in y_val_string:\n",
    "\n",
    "    b = \"[]\\n\"\n",
    "    for char in b:\n",
    "        i = i.replace(char, \"\")\n",
    "    input_y_val = [int(j) for j in i.split()]\n",
    "    y_val.append(input_y_val)\n",
    "x_val = np.array(x_val)\n",
    "y_val = np.array(y_val)\n",
    "\n",
    "# print(x_val.shape,y_val.shape)\n",
    "\n",
    "notes_ = notes_df.to_numpy()[:,1]\n",
    "unique_notes_reverse = dict(enumerate(notes_.flatten(), 1))\n",
    "unique_notes = {value : key for (key, value) in unique_notes_reverse.items()}"
   ]
  },
  {
   "cell_type": "code",
   "execution_count": 3,
   "metadata": {
    "id": "YIqpdgrYzPe-"
   },
   "outputs": [],
   "source": [
    "from MusicDataset import *\n",
    "batch_size = 8\n",
    "train_set = MusicDataset(x_tr,y_tr)\n",
    "trainloader = torch.utils.data.DataLoader(train_set, batch_size=batch_size,\n",
    "                                         shuffle=False, num_workers=2)"
   ]
  },
  {
   "cell_type": "code",
   "execution_count": 4,
   "metadata": {
    "id": "rn3ZuUPPT38F"
   },
   "outputs": [],
   "source": [
    "val_set = MusicDataset(x_val,y_val)\n",
    "validationloader = torch.utils.data.DataLoader(val_set, batch_size=batch_size,\n",
    "                                         shuffle=False, num_workers=2)"
   ]
  },
  {
   "cell_type": "markdown",
   "metadata": {
    "id": "0bxVZde_utFh"
   },
   "source": [
    "**DataLoader**"
   ]
  },
  {
   "cell_type": "markdown",
   "metadata": {
    "id": "NnaW5q-HtI4E"
   },
   "source": [
    "# For Wavenet Model (Ignore for now)"
   ]
  },
  {
   "cell_type": "code",
   "execution_count": 2,
   "metadata": {
    "id": "36aRUJG6Fx_p",
    "scrolled": false
   },
   "outputs": [],
   "source": [
    "from Models import Wavenet, LSTM\n",
    "Net = Wavenet.Wavenet(len(unique_notes),blocks=4,layers = 2)\n",
    "# Net = LSTM.Sequence(len(unique_notes),32)\n",
    "Net.to(device)"
   ]
  },
  {
   "cell_type": "markdown",
   "metadata": {
    "id": "RARksamCtA7X"
   },
   "source": [
    "# Checking the model"
   ]
  },
  {
   "cell_type": "code",
   "execution_count": 6,
   "metadata": {
    "id": "X01XYRS83ByK"
   },
   "outputs": [],
   "source": [
    "import torch.optim as optim\n",
    "criterion = nn.CrossEntropyLoss()\n",
    "optimizer = torch.optim.Adam(Net.parameters(), lr=0.001, betas=(0.9, 0.999), eps=1e-08, weight_decay=0, amsgrad=False)"
   ]
  },
  {
   "cell_type": "markdown",
   "metadata": {
    "id": "0-cyi3j7tSG3"
   },
   "source": [
    "**Use the line below when you want to change learning parameters in between**"
   ]
  },
  {
   "cell_type": "code",
   "execution_count": 7,
   "metadata": {},
   "outputs": [
    {
     "name": "stdout",
     "output_type": "stream",
     "text": [
      "C:\\Users\\Dell\\music_generation/Music-Gen-AI C:\\Users\\Dell\\music_generation/Music-Gen-AI\\trained_model_cache\\21_04_2024_11_42\n"
     ]
    }
   ],
   "source": [
    "import os\n",
    "import time\n",
    "\n",
    "baseDir = r'C:\\Users\\Dell\\music_generation/Music-Gen-AI'\n",
    "expDir = os.path.join(baseDir, 'trained_model_cache', time.strftime(\"%d_%m_%Y_%H_%M\"))\n",
    "lossDir = os.path.join(expDir, 'loss')\n",
    "os.makedirs(expDir, exist_ok=True)\n",
    "os.makedirs(lossDir, exist_ok=True)\n",
    "print(baseDir, expDir)"
   ]
  },
  {
   "cell_type": "code",
   "execution_count": 8,
   "metadata": {},
   "outputs": [],
   "source": [
    "loss_history = []\n",
    "best_val_acc = 0\n",
    "training_mode_list = [\"Next_Predict_Mode\",\"Future_Predict_Mode\"]\n",
    "training_mode = \"Next_Predict_Mode\"\n",
    "# training_mode = \"Future_Predict_Mode\"\n",
    "future_preds = 5"
   ]
  },
  {
   "cell_type": "code",
   "execution_count": 15,
   "metadata": {
    "id": "45TGOH7G1mvF",
    "scrolled": false
   },
   "outputs": [],
   "source": [
    "for epoch in range(90): \n",
    "    running_loss = 0.0\n",
    "    start = timeit.default_timer()\n",
    "    for i, data in enumerate(trainloader, 0):\n",
    "        input, label = data\n",
    "        input = input.to(device)  # Move input to device here\n",
    "        optimizer.zero_grad()\n",
    "        if training_mode == training_mode_list[0]:\n",
    "            output = Net(input)\n",
    "            loss = criterion(output, label[:, 0].long().to(device))\n",
    "            loss.backward()\n",
    "            optimizer.step()\n",
    "            running_loss += loss.item() * input.shape[0]  # Multiply by batch size\n",
    "            total_preds += input.shape[0]\n",
    "            _, predicted = torch.max(output, 1)\n",
    "            correct_preds += (predicted == label[:, 0].to(device)).sum().item()\n",
    "        elif training_mode == training_mode_list[1]:\n",
    "            cumm_output = torch.zeros(0, len(unique_notes)).to(device)\n",
    "            cumm_label = []\n",
    "            for k in range(future_preds):\n",
    "                output = Net(input)\n",
    "                cumm_output = torch.cat((cumm_output, output))\n",
    "                cumm_label.extend(label[:, k].tolist())\n",
    "                next_preds = torch.max(output, 1)[1]\n",
    "                input = torch.cat((input[:, 1:], next_preds.unsqueeze(1)), dim=1)\n",
    "            loss = criterion(cumm_output, torch.tensor(cumm_label, dtype=torch.long).to(device))\n",
    "            loss.backward()\n",
    "            optimizer.step()\n",
    "            running_loss += loss.item() * input.shape[0]  # Multiply by batch size\n",
    "\n",
    "        if (i % 300 == 299):\n",
    "            print('[%d, %5d] loss: %.3f' % (epoch + 1, i + 1, running_loss / total_preds))\n",
    "            loss_history.append(running_loss / total_preds)\n",
    "            running_loss = 0.0\n",
    "    stop = timeit.default_timer()\n",
    "    print(f\"Training Time for Epoch :{epoch} \\n {stop - start} seconds\\n\")\n",
    "    train_acc = correct_preds / total_preds * 100\n",
    "    trainreport = \"Training Accuracy : \\n correct predictions  : {} \\n total predictions : {} \\n Training Accuracy : {} \\n ------------------------\\n\".format(\n",
    "        correct_preds, total_preds, train_acc)\n",
    "    print(trainreport)\n",
    "    correct_preds = 0\n",
    "    total_preds = 0\n",
    "\n",
    "    val_loss = 0\n",
    "    start = timeit.default_timer()\n",
    "    for i, data in enumerate(validationloader, 0):\n",
    "        input, label = data\n",
    "        input = input.to(device)  # Move input to device here\n",
    "        if training_mode == training_mode_list[0]:\n",
    "            output = Net(input)\n",
    "            loss = criterion(output, label[:, 0].long().to(device))\n",
    "            val_loss += loss.item() * input.shape[0]  # Multiply by batch size\n",
    "            total_preds += input.shape[0]\n",
    "            _, predicted = torch.max(output, 1)\n",
    "            correct_preds += (predicted == label[:, 0].to(device)).sum().item()\n",
    "        elif training_mode == training_mode_list[1]:\n",
    "            cumm_output = torch.zeros(0, len(unique_notes)).to(device)\n",
    "            cumm_label = []\n",
    "            for k in range(future_preds):\n",
    "                output = Net(input)\n",
    "                cumm_output = torch.cat((cumm_output, output))\n",
    "                cumm_label.extend(label[:, k].tolist())\n",
    "                next_preds = torch.max(output, 1)[1]\n",
    "                input = torch.cat((input[:, 1:], next_preds.unsqueeze(1)), dim=1)\n",
    "            loss = criterion(cumm_output, torch.tensor(cumm_label, dtype=torch.long).to(device))\n",
    "            val_loss += loss.item() * input.shape[0]  # Multiply by batch size\n",
    "\n",
    "    stop = timeit.default_timer()\n",
    "    print(f\"Validation Time for Epoch :{epoch} \\n {stop - start} seconds\\n\")\n",
    "    val_acc = correct_preds / total_preds * 100\n",
    "    val_loss = val_loss / total_preds\n",
    "    valreport = \"Validation Accuracy : \\n correct predictions  : {} \\n total predictions : {} \\n Val-Loss : {} \\n Val-Accuracy :{}----------------------------------\\n\".format(\n",
    "        correct_preds, total_preds, val_loss, val_acc)\n",
    "    print(valreport)\n",
    "\n",
    "    if val_acc > best_val_acc:\n",
    "        print('Updating the model')\n",
    "        best_val_acc = val_acc\n",
    "        checkpoint = {\n",
    "            \"epoch\": epoch,\n",
    "            \"model_state_dict\": Net.state_dict(),\n",
    "            \"optimizer_state_dict\": optimizer.state_dict(),\n",
    "            \"train_acc\": train_acc,\n",
    "            \"valid_acc\": val_acc\n",
    "        }\n",
    "        torch.save(checkpoint, os.path.join(expDir, 'checkpoint.tar'))\n",
    "        torch.save(Net, os.path.join(expDir, 'model.pth'))\n",
    "\n",
    "    correct_preds = 0\n",
    "    total_preds = 0\n",
    "\n",
    "print('Finished Training')\n"
   ]
  },
  {
   "cell_type": "code",
   "execution_count": null,
   "metadata": {
    "id": "InzgOHy4SbUx"
   },
   "outputs": [],
   "source": [
    "import matplotlib.pyplot as plt\n",
    "plt.figure()\n",
    "plt.plot(loss_history)\n",
    "plt.savefig(lossDir + '/loss_history.png')"
   ]
  },
  {
   "cell_type": "code",
   "execution_count": null,
   "metadata": {
    "id": "H2H4LCj7HJB2",
    "scrolled": false
   },
   "outputs": [],
   "source": []
  }
 ],
 "metadata": {
  "colab": {
   "collapsed_sections": [],
   "name": "Music_Gen_AI.ipynb",
   "provenance": []
  },
  "interpreter": {
   "hash": "31f2aee4e71d21fbe5cf8b01ff0e069b9275f58929596ceb00d14d90e3e16cd6"
  },
  "kernelspec": {
   "display_name": "Python 3 (ipykernel)",
   "language": "python",
   "name": "python3"
  },
  "language_info": {
   "codemirror_mode": {
    "name": "ipython",
    "version": 3
   },
   "file_extension": ".py",
   "mimetype": "text/x-python",
   "name": "python",
   "nbconvert_exporter": "python",
   "pygments_lexer": "ipython3",
   "version": "3.11.5"
  }
 },
 "nbformat": 4,
 "nbformat_minor": 4
}
