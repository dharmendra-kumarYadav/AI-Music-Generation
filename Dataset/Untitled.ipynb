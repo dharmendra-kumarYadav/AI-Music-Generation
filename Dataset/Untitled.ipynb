{
 "cells": [
  {
   "cell_type": "code",
   "execution_count": 3,
   "id": "9ed83a8e",
   "metadata": {
    "scrolled": false
   },
   "outputs": [],
   "source": [
    "%run Generate_dataset.py"
   ]
  },
  {
   "cell_type": "code",
   "execution_count": 4,
   "id": "f7da9c30",
   "metadata": {
    "scrolled": false
   },
   "outputs": [
    {
     "name": "stdout",
     "output_type": "stream",
     "text": [
      "Loading Music File: ../schubert/schubert_D850_1.mid\n",
      "Loading Music File: ../schubert/schubert_D850_2.mid\n",
      "Loading Music File: ../schubert/schubert_D850_3.mid\n",
      "Loading Music File: ../schubert/schubert_D850_4.mid\n",
      "Loading Music File: ../schubert/schubert_D935_1.mid\n",
      "Loading Music File: ../schubert/schubert_D935_2.mid\n",
      "Loading Music File: ../schubert/schubert_D935_3.mid\n",
      "Loading Music File: ../schubert/schubert_D935_4.mid\n",
      "Loading Music File: ../schubert/schub_d760_1.mid\n",
      "Loading Music File: ../schubert/schub_d760_2.mid\n",
      "Loading Music File: ../schubert/schub_d760_3.mid\n",
      "Loading Music File: ../schubert/schub_d760_4.mid\n",
      "Loading Music File: ../schubert/schub_d960_1.mid\n",
      "Loading Music File: ../schubert/schub_d960_2.mid\n",
      "Loading Music File: ../schubert/schub_d960_3.mid\n",
      "Loading Music File: ../schubert/schub_d960_4.mid\n",
      "Loading Music File: ../schubert/schuim-1.mid\n",
      "Loading Music File: ../schubert/schuim-2.mid\n",
      "Loading Music File: ../schubert/schuim-3.mid\n",
      "Loading Music File: ../schubert/schuim-4.mid\n",
      "Loading Music File: ../schubert/schumm-1.mid\n",
      "Loading Music File: ../schubert/schumm-2.mid\n",
      "Loading Music File: ../schubert/schumm-3.mid\n",
      "Loading Music File: ../schubert/schumm-4.mid\n",
      "Loading Music File: ../schubert/schumm-5.mid\n",
      "Loading Music File: ../schubert/schumm-6.mid\n",
      "Loading Music File: ../schubert/schu_143_1.mid\n",
      "Loading Music File: ../schubert/schu_143_2.mid\n",
      "Loading Music File: ../schubert/schu_143_3.mid\n",
      "['3.5', 'C#2', 'E6', 'B-4', '4', '4.7.11', 'F2', 'B4', 'D3', '2', '3.8', 'C5', 'G2', '5.10', '8.10', '9.11', '7.10.0', '2.5', '3', '6.10.1', 'D6', '4.8', 'C3', '0.2', '4.7.9', 'G4', '1.5', '10.2.5', '2.6.9', 'G#4', '1.3', '1', 'C2', '11.2.6', 'B1', 'F6', 'B-6', 'C#4', '5.8.0', '11.2.4', '6.8', '1.7', 'E2', '5.7', '0.3.6', '0.3.5', '9', 'A6', 'A4', '5.9.0', '0.2.6', '10.2', '8', '8.1', '6.9', 'A2', '1.5.8', 'A1', '10.1.3', '6.9.1', '4.6', '7.9.1', '5.8', '6.11', 'E-2', 'B5', 'D4', '3.6.10', '10', '2.7', 'E4', '6', '3.6.9', 'F#4', '3.6.8', '1.4.7.10', '11.2', '11.1', '9.1', 'G5', 'C4', '0.4.7', '10.1.4', '10.1', 'B-2', '4.7', 'F4', '7.10.2', 'F#3', 'C#3', 'E5', '2.6', '0.1', 'G3', '10.11', 'F3', '9.0.4', 'B-5', '8.11', '4.10', '1.4.7', 'C#6', '10.3', '0.6', '11', 'B-3', '2.4.8', '9.0', '7', 'B-1', '9.10', 'E-6', '8.11.3', 'B2', 'G#1', '2.5.9', '7.10.1', 'A5', '5.11', 'E-4', 'C7', '0.3.7', 'E-3', '4.8.11', '0.3', 'F#2', '9.2', 'D5', '5.8.11', 'G#3', 'F#6', '2.4', '8.0.3', '8.11.2', '10.1.5', '3.6', '0.4', '9.1.4', 'D2', 'F#5', 'C#5', 'G#2', '1.4.8', '0.5', '7.10', '5', '6.10', '11.3.6', '0', 'B3', '4.9', '2.8', '11.2.5.7', '8.0', '1.6', 'E-5', '7.9', 'G6', 'G#5', '7.8', '9.0.2', 'F1', '7.11', '3.4', '3.7.10', 'A3', '3.9', 'E3', '4.7.10', '11.4', '7.11.2', '10.0', 'G1', 'F5', '7.0', '5.9', '11.3', 'G#6', '1.4', '3.7', 'C6', '2.5.7']\n"
     ]
    }
   ],
   "source": [
    "%run generate_data.py"
   ]
  },
  {
   "cell_type": "code",
   "execution_count": 10,
   "id": "27591a8a",
   "metadata": {},
   "outputs": [],
   "source": [
    "%run midi_helper.py"
   ]
  },
  {
   "cell_type": "code",
   "execution_count": 3,
   "id": "c6ab5670",
   "metadata": {
    "scrolled": false
   },
   "outputs": [
    {
     "name": "stdout",
     "output_type": "stream",
     "text": [
      "Loading Music File: ../schubert/schubert_D850_1.mid\n",
      "Loading Music File: ../schubert/schubert_D850_2.mid\n",
      "Loading Music File: ../schubert/schubert_D850_3.mid\n",
      "Loading Music File: ../schubert/schubert_D850_4.mid\n",
      "Loading Music File: ../schubert/schubert_D935_1.mid\n",
      "Loading Music File: ../schubert/schubert_D935_2.mid\n",
      "Loading Music File: ../schubert/schubert_D935_3.mid\n",
      "Loading Music File: ../schubert/schubert_D935_4.mid\n",
      "Loading Music File: ../schubert/schub_d760_1.mid\n",
      "Loading Music File: ../schubert/schub_d760_2.mid\n",
      "Loading Music File: ../schubert/schub_d760_3.mid\n",
      "Loading Music File: ../schubert/schub_d760_4.mid\n",
      "Loading Music File: ../schubert/schub_d960_1.mid\n",
      "Loading Music File: ../schubert/schub_d960_2.mid\n",
      "Loading Music File: ../schubert/schub_d960_3.mid\n",
      "Loading Music File: ../schubert/schub_d960_4.mid\n",
      "Loading Music File: ../schubert/schuim-1.mid\n",
      "Loading Music File: ../schubert/schuim-2.mid\n",
      "Loading Music File: ../schubert/schuim-3.mid\n",
      "Loading Music File: ../schubert/schuim-4.mid\n",
      "Loading Music File: ../schubert/schumm-1.mid\n",
      "Loading Music File: ../schubert/schumm-2.mid\n",
      "Loading Music File: ../schubert/schumm-3.mid\n",
      "Loading Music File: ../schubert/schumm-4.mid\n",
      "Loading Music File: ../schubert/schumm-5.mid\n",
      "Loading Music File: ../schubert/schumm-6.mid\n",
      "Loading Music File: ../schubert/schu_143_1.mid\n",
      "Loading Music File: ../schubert/schu_143_2.mid\n",
      "Loading Music File: ../schubert/schu_143_3.mid\n",
      "['7', '3.7.10', '7.9.1', '5.8.11', '10.3', '4', '1.6', 'A5', '10', 'G4', '5.9.0', '7.9', '1.4.7', 'G#3', 'E4', '2.6', '10.2.5', 'C#4', 'C#6', '0.5', '3.6.9', '3.5', '0.4', '4.6', '7.11', '0.2.6', 'C6', '11.1', '9.1', '5', '9.0.2', '4.7.11', '11.2.4', 'B-6', '2.4.8', 'G#4', 'F6', '2.5', '0.2', '3.6.8', '8.10', '4.8', '10.1', '0.6', '9.11', 'B2', 'C#5', 'A1', 'G1', '2', 'F4', '1', '5.10', 'B-5', 'D4', '8.0.3', '4.8.11', '3.6', '0.3.5', '0.3.7', 'B-2', 'B1', '3.6.10', 'E-6', '1.4.8', '7.10.2', '5.9', '6.10.1', '3.9', '11.2', '8.0', 'B3', '10.0', 'G3', '8.11.2', '3.7', '0.1', '7.11.2', 'F3', '10.1.4', 'B-4', '8.11.3', 'A4', '3.8', '11.2.6', 'F#5', '2.4', '4.9', '11', '10.1.3', 'C7', 'F#4', '1.5.8', '1.4', 'B4', '11.4', '4.7.9', 'G#5', 'G6', '8', '7.10', '11.3', 'E6', 'C#3', '11.2.5.7', 'E5', '6.8', '2.5.7', 'G#1', '5.8.0', '4.7', '7.10.0', '9.2', '9.0.4', '9.1.4', 'D6', '3', 'D3', '2.6.9', 'A6', '4.7.10', '2.8', '8.1', 'C4', '2.7', '0.3.6', '0.3', 'B5', 'C3', '0', 'F#6', 'G#2', '6.9', '2.5.9', 'A2', '1.7', 'E-4', 'E2', 'C2', '10.11', 'E-2', '4.10', '0.4.7', '3.4', 'B-3', '1.5', '11.3.6', '7.8', '6.10', '7.0', 'F#2', 'F#3', 'E-3', 'G5', '1.3', '10.2', '6.11', '6', '9.0', 'C5', 'E3', 'D2', '5.8', 'C#2', '10.1.5', 'A3', 'F5', '5.7', '7.10.1', '6.9.1', 'B-1', '5.11', '9.10', 'G#6', 'G2', '1.4.7.10', '8.11', 'F2', '9', 'D5', 'E-5', 'F1']\n",
      "54873 15678 7839\n",
      "['7', '3.7.10', '7.9.1', '5.8.11', '10.3', '4', '1.6', 'A5', '10', 'G4', '5.9.0', '7.9', '1.4.7', 'G#3', 'E4', '2.6', '10.2.5', 'C#4', 'C#6', '0.5', '3.6.9', '3.5', '0.4', '4.6', '7.11', '0.2.6', 'C6', '11.1', '9.1', '5', '9.0.2', '4.7.11', '11.2.4', 'B-6', '2.4.8', 'G#4', 'F6', '2.5', '0.2', '3.6.8', '8.10', '4.8', '10.1', '0.6', '9.11', 'B2', 'C#5', 'A1', 'G1', '2', 'F4', '1', '5.10', 'B-5', 'D4', '8.0.3', '4.8.11', '3.6', '0.3.5', '0.3.7', 'B-2', 'B1', '3.6.10', 'E-6', '1.4.8', '7.10.2', '5.9', '6.10.1', '3.9', '11.2', '8.0', 'B3', '10.0', 'G3', '8.11.2', '3.7', '0.1', '7.11.2', 'F3', '10.1.4', 'B-4', '8.11.3', 'A4', '3.8', '11.2.6', 'F#5', '2.4', '4.9', '11', '10.1.3', 'C7', 'F#4', '1.5.8', '1.4', 'B4', '11.4', '4.7.9', 'G#5', 'G6', '8', '7.10', '11.3', 'E6', 'C#3', '11.2.5.7', 'E5', '6.8', '2.5.7', 'G#1', '5.8.0', '4.7', '7.10.0', '9.2', '9.0.4', '9.1.4', 'D6', '3', 'D3', '2.6.9', 'A6', '4.7.10', '2.8', '8.1', 'C4', '2.7', '0.3.6', '0.3', 'B5', 'C3', '0', 'F#6', 'G#2', '6.9', '2.5.9', 'A2', '1.7', 'E-4', 'E2', 'C2', '10.11', 'E-2', '4.10', '0.4.7', '3.4', 'B-3', '1.5', '11.3.6', '7.8', '6.10', '7.0', 'F#2', 'F#3', 'E-3', 'G5', '1.3', '10.2', '6.11', '6', '9.0', 'C5', 'E3', 'D2', '5.8', 'C#2', '10.1.5', 'A3', 'F5', '5.7', '7.10.1', '6.9.1', 'B-1', '5.11', '9.10', 'G#6', 'G2', '1.4.7.10', '8.11', 'F2', '9', 'D5', 'E-5', 'F1']\n"
     ]
    }
   ],
   "source": []
  },
  {
   "cell_type": "code",
   "execution_count": 18,
   "id": "7500e1fd",
   "metadata": {
    "scrolled": false
   },
   "outputs": [
    {
     "name": "stdout",
     "output_type": "stream",
     "text": [
      "Data augmentation completed and saved successfully!\n"
     ]
    }
   ],
   "source": [
    "%run data_augmentation.py"
   ]
  },
  {
   "cell_type": "code",
   "execution_count": null,
   "id": "4c176295",
   "metadata": {},
   "outputs": [],
   "source": []
  },
  {
   "cell_type": "code",
   "execution_count": 4,
   "id": "3181ef6f",
   "metadata": {},
   "outputs": [],
   "source": [
    "%run transpose.py"
   ]
  },
  {
   "cell_type": "code",
   "execution_count": null,
   "id": "5b8516db",
   "metadata": {},
   "outputs": [],
   "source": []
  }
 ],
 "metadata": {
  "kernelspec": {
   "display_name": "Python 3 (ipykernel)",
   "language": "python",
   "name": "python3"
  },
  "language_info": {
   "codemirror_mode": {
    "name": "ipython",
    "version": 3
   },
   "file_extension": ".py",
   "mimetype": "text/x-python",
   "name": "python",
   "nbconvert_exporter": "python",
   "pygments_lexer": "ipython3",
   "version": "3.11.5"
  }
 },
 "nbformat": 4,
 "nbformat_minor": 5
}
