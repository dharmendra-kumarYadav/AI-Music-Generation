{
 "cells": [
  {
   "cell_type": "code",
   "execution_count": 7,
   "id": "9f79e05b",
   "metadata": {},
   "outputs": [],
   "source": [
    "%run LSTM.py"
   ]
  },
  {
   "cell_type": "code",
   "execution_count": 8,
   "id": "e578fe87",
   "metadata": {},
   "outputs": [],
   "source": [
    "%run bidirectionalLSTM.py"
   ]
  },
  {
   "cell_type": "code",
   "execution_count": 9,
   "id": "9c5daf3c",
   "metadata": {},
   "outputs": [],
   "source": [
    "%run stackedLSTM.py"
   ]
  },
  {
   "cell_type": "code",
   "execution_count": 10,
   "id": "cc1d46d3",
   "metadata": {},
   "outputs": [],
   "source": [
    "%run gru.py"
   ]
  },
  {
   "cell_type": "code",
   "execution_count": 11,
   "id": "a694ff24",
   "metadata": {},
   "outputs": [],
   "source": [
    "%run Wavenet.py"
   ]
  },
  {
   "cell_type": "code",
   "execution_count": 5,
   "id": "0bff245d",
   "metadata": {},
   "outputs": [
    {
     "ename": "NameError",
     "evalue": "name 'GRUSequence' is not defined",
     "output_type": "error",
     "traceback": [
      "\u001b[1;31m---------------------------------------------------------------------------\u001b[0m",
      "\u001b[1;31mNameError\u001b[0m                                 Traceback (most recent call last)",
      "Cell \u001b[1;32mIn[5], line 13\u001b[0m\n\u001b[0;32m     10\u001b[0m hidden_size_gru \u001b[38;5;241m=\u001b[39m \u001b[38;5;241m256\u001b[39m\n\u001b[0;32m     11\u001b[0m hidden_size_lstm \u001b[38;5;241m=\u001b[39m \u001b[38;5;241m256\u001b[39m\n\u001b[1;32m---> 13\u001b[0m gru_model \u001b[38;5;241m=\u001b[39m GRUSequence(num_classes, seq_length, embedding_dimension, num_layers, hidden_size_gru)\u001b[38;5;241m.\u001b[39mto(device)\n\u001b[0;32m     14\u001b[0m sequence_model \u001b[38;5;241m=\u001b[39m Sequence(num_classes, seq_length, embedding_dimension, num_layers, hidden_size_lstm)\u001b[38;5;241m.\u001b[39mto(device)\n\u001b[0;32m     16\u001b[0m \u001b[38;5;66;03m# Calculate and print the number of parameters for each model\u001b[39;00m\n",
      "\u001b[1;31mNameError\u001b[0m: name 'GRUSequence' is not defined"
     ]
    }
   ],
   "source": [
    "import gru,LSTM\n",
    "def count_parameters(model):\n",
    "    return sum(p.numel() for p in model.parameters() if p.requires_grad)\n",
    "\n",
    "# Create instances of GRUSequence and Sequence models with example parameters\n",
    "num_classes = 100\n",
    "seq_length = 50\n",
    "embedding_dimension = 100\n",
    "num_layers = 3\n",
    "hidden_size_gru = 256\n",
    "hidden_size_lstm = 256\n",
    "\n",
    "gru_model = GRUSequence(num_classes, seq_length, embedding_dimension, num_layers, hidden_size_gru).to(device)\n",
    "sequence_model = Sequence(num_classes, seq_length, embedding_dimension, num_layers, hidden_size_lstm).to(device)\n",
    "\n",
    "# Calculate and print the number of parameters for each model\n",
    "num_params_gru = count_parameters(gru_model)\n",
    "num_params_sequence = count_parameters(sequence_model)\n",
    "\n",
    "print(\"Number of Parameters in GRUSequence model:\", num_params_gru)\n",
    "print(\"Number of Parameters in Sequence model:\", num_params_sequence)\n"
   ]
  },
  {
   "cell_type": "code",
   "execution_count": null,
   "id": "b067f549",
   "metadata": {},
   "outputs": [],
   "source": []
  }
 ],
 "metadata": {
  "kernelspec": {
   "display_name": "Python 3 (ipykernel)",
   "language": "python",
   "name": "python3"
  },
  "language_info": {
   "codemirror_mode": {
    "name": "ipython",
    "version": 3
   },
   "file_extension": ".py",
   "mimetype": "text/x-python",
   "name": "python",
   "nbconvert_exporter": "python",
   "pygments_lexer": "ipython3",
   "version": "3.11.5"
  }
 },
 "nbformat": 4,
 "nbformat_minor": 5
}
