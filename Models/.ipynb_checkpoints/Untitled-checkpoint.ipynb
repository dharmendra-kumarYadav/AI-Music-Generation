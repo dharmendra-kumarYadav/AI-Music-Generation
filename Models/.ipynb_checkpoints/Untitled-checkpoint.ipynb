{
 "cells": [
  {
   "cell_type": "code",
   "execution_count": 7,
   "id": "9f79e05b",
   "metadata": {},
   "outputs": [],
   "source": [
    "%run LSTM.py"
   ]
  },
  {
   "cell_type": "code",
   "execution_count": 8,
   "id": "e578fe87",
   "metadata": {},
   "outputs": [],
   "source": [
    "%run bidirectionalLSTM.py"
   ]
  },
  {
   "cell_type": "code",
   "execution_count": 9,
   "id": "9c5daf3c",
   "metadata": {},
   "outputs": [],
   "source": [
    "%run stackedLSTM.py"
   ]
  },
  {
   "cell_type": "code",
   "execution_count": 10,
   "id": "cc1d46d3",
   "metadata": {},
   "outputs": [],
   "source": [
    "%run gru.py"
   ]
  },
  {
   "cell_type": "code",
   "execution_count": 11,
   "id": "a694ff24",
   "metadata": {},
   "outputs": [],
   "source": [
    "%run Wavenet.py"
   ]
  },
  {
   "cell_type": "code",
   "execution_count": null,
   "id": "0bff245d",
   "metadata": {},
   "outputs": [],
   "source": []
  }
 ],
 "metadata": {
  "kernelspec": {
   "display_name": "Python 3 (ipykernel)",
   "language": "python",
   "name": "python3"
  },
  "language_info": {
   "codemirror_mode": {
    "name": "ipython",
    "version": 3
   },
   "file_extension": ".py",
   "mimetype": "text/x-python",
   "name": "python",
   "nbconvert_exporter": "python",
   "pygments_lexer": "ipython3",
   "version": "3.11.5"
  }
 },
 "nbformat": 4,
 "nbformat_minor": 5
}
